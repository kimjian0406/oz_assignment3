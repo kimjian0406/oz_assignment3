{
  "nbformat": 4,
  "nbformat_minor": 0,
  "metadata": {
    "colab": {
      "provenance": [],
      "authorship_tag": "ABX9TyPiXAjVTqblHqbs6rRat2FM"
    },
    "kernelspec": {
      "name": "python3",
      "display_name": "Python 3"
    },
    "language_info": {
      "name": "python"
    }
  },
  "cells": [
    {
      "cell_type": "markdown",
      "source": [
        "<span style=\"font-size:100%\">\n",
        "\n",
        "수업은 모두 열심히 들으셨나요?\n",
        "\n",
        "간혹 강의에서 언급되지 않은 내용이 문제로 나올 수 있습니다.<br>\n",
        "그럴땐 강의 내용 외 문제는 구글링을 통해 해결해주세요<br></span>\n",
        "<span style=\"font-size:80%\">\n",
        "(구글링 또한 개발자가 갖쳐야할 역량 중에 하나랍니다 😊)\n",
        "</span>\n",
        "\n",
        "---"
      ],
      "metadata": {
        "id": "27tQqtZJBP2W"
      }
    },
    {
      "cell_type": "markdown",
      "source": [
        "<span style=\"font-size:80%\">[문제1]<br><br></span>\n",
        "```다음 중 14 % 3의 계산 결과로 옳은 것을 고르세요```\n",
        "\n",
        "1. 4\n",
        "2. 4.6\n",
        "3. 2\n",
        "4. 1"
      ],
      "metadata": {
        "id": "3mnYIpL5BROq"
      }
    },
    {
      "cell_type": "markdown",
      "source": [
        "답변 3번"
      ],
      "metadata": {
        "id": "rduTYH5RBSru"
      }
    },
    {
      "cell_type": "markdown",
      "source": [
        "<span style=\"font-size:80%\">[문제2]<br><br></span>\n",
        "```다음 중 올바르지 않은 것을 고르세요```\n",
        "\n",
        "1. float(17//3)\n",
        "2. int(10)-9\n",
        "3. float11/2\n",
        "4. float(10)-2"
      ],
      "metadata": {
        "id": "dAncRZHKBWYQ"
      }
    },
    {
      "cell_type": "markdown",
      "source": [
        "답변 3번"
      ],
      "metadata": {
        "id": "GkfyBToEBX6o"
      }
    },
    {
      "cell_type": "markdown",
      "source": [
        "[문제3]<br><br>\n",
        "다음 계산식의 결괏값을 골라주세요\n",
        "\n",
        "(3 * 7 - 16) / 2 - 1"
      ],
      "metadata": {
        "id": "ZhMCHsWjBaQL"
      }
    },
    {
      "cell_type": "markdown",
      "source": [
        "답변 1.5"
      ],
      "metadata": {
        "id": "tV5VFRRvBb-S"
      }
    },
    {
      "cell_type": "markdown",
      "source": [
        "[문제4]<br><br>\n",
        "거듭제곱을 올바르게 표현한 식을 골라주세요\n",
        "\n",
        "1. 2 ^^ 3\n",
        "2. 2 ** 3\n",
        "3. 2 ^* 3\n",
        "4. 2 ~~ 3"
      ],
      "metadata": {
        "id": "k01QpLPgBeFL"
      }
    },
    {
      "cell_type": "markdown",
      "source": [
        "답변 2번"
      ],
      "metadata": {
        "id": "SkCqFsioBf5D"
      }
    },
    {
      "cell_type": "markdown",
      "source": [
        "[문제5]<br><br>\n",
        "목과 나머지를 함께 구하기 위해 사용할 수 있는 표현을 골라주세요\n",
        "\n",
        "1. //\n",
        "2. divmod()\n",
        "3. %\n",
        "4. /"
      ],
      "metadata": {
        "id": "5NuDP62lBhtC"
      }
    },
    {
      "cell_type": "markdown",
      "source": [
        "답변 3번"
      ],
      "metadata": {
        "id": "_GweXTS0BocM"
      }
    }
  ]
}