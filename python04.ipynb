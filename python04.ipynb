{
  "nbformat": 4,
  "nbformat_minor": 0,
  "metadata": {
    "colab": {
      "provenance": [],
      "authorship_tag": "ABX9TyO2S/R+ktZEvjM5Z9XqrODQ",
      "include_colab_link": true
    },
    "kernelspec": {
      "name": "python3",
      "display_name": "Python 3"
    },
    "language_info": {
      "name": "python"
    }
  },
  "cells": [
    {
      "cell_type": "markdown",
      "metadata": {
        "id": "view-in-github",
        "colab_type": "text"
      },
      "source": [
        "<a href=\"https://colab.research.google.com/github/kimjian0406/oz_assignment3/blob/main/python04.ipynb\" target=\"_parent\"><img src=\"https://colab.research.google.com/assets/colab-badge.svg\" alt=\"Open In Colab\"/></a>"
      ]
    },
    {
      "cell_type": "markdown",
      "source": [
        "안녕하세요.<br><br>\n",
        "수강생 여러분~!\n",
        "\n",
        "\"Challenge : 사칙연산을 이용해 문제 풀기\"는 잘 풀어보셨나요?\n",
        "\n",
        "\n",
        "너~~무 어려웠어요! 하는 분들을 위해 만들어봤습니다!\n",
        "\n",
        "문제 도장깨기 !!!!!\n",
        "\n",
        "차근차근 풀어나가면 파이썬 정복 가능입니다!\n",
        "\n",
        "화이팅 !\n",
        "\n",
        "\n",
        "Chapter04의 수업 내용을 바탕으로 아래 문제를 풀어주시면 됩니다.\n",
        "\n",
        "<br>\n",
        "\n",
        "[**답변 입력 방법**]\n",
        "\n",
        "문제 아래에 있는 코드 입력창에 정답코드를 작성하신 후  __▷ 버튼을 클릭해 코드를 실행__ 해보세요<br>\n",
        "<br>"
      ],
      "metadata": {
        "id": "nP_kfrqlFgBj"
      }
    },
    {
      "cell_type": "markdown",
      "source": [
        "<br>\n",
        "\n",
        "__[문제1]__\n",
        "\n",
        "한 상자에 사과가 7개 들어있습니다.\n",
        "\n",
        "사과가 많이 먹고 싶어서 3개의 상자를 구입했습니다!\n",
        "\n",
        "총 사과의 개수를 계산해주세요.\n",
        "\n",
        "\n",
        "<br>"
      ],
      "metadata": {
        "id": "6ueW0CThFiKO"
      }
    },
    {
      "cell_type": "code",
      "source": [
        "#사과박스 사과 개수\n",
        "apple = 7\n",
        "apple_bax = 3\n",
        "\n",
        "print(apple * apple_bax, \"개\", sep=\"\")"
      ],
      "metadata": {
        "colab": {
          "base_uri": "https://localhost:8080/"
        },
        "id": "kojrw6GaFkOy",
        "outputId": "9c2853a8-0eda-443d-d1b6-d21abb2583c8"
      },
      "execution_count": 2,
      "outputs": [
        {
          "output_type": "stream",
          "name": "stdout",
          "text": [
            "21개\n"
          ]
        }
      ]
    },
    {
      "cell_type": "markdown",
      "source": [
        "<br>\n",
        "\n",
        "__[문제2]__\n",
        "\n",
        "영화 티켓 한 장의 가격은 10,000원입니다.\n",
        "\n",
        "친구 한명이 로또에 당첨되서 티켓을 사준다고 합니다!\n",
        "\n",
        "4명의 친구가 각각 4장씩 구매할 때, 총 가격이 어떻게 되는지 계산해주세요\n",
        "\n",
        "<br>"
      ],
      "metadata": {
        "id": "9RhIe01vFvoS"
      }
    },
    {
      "cell_type": "code",
      "source": [
        "#영화티켓 한장 가격\n",
        "movie_ticket = 10000\n",
        "\n",
        "#총인원 총갯수\n",
        "total_people = 4\n",
        "total_ticket = 4\n",
        "\n",
        "print(movie_ticket * total_people * total_ticket, \"원\", sep=\"\")"
      ],
      "metadata": {
        "colab": {
          "base_uri": "https://localhost:8080/"
        },
        "id": "tDDklJduFxtY",
        "outputId": "ab93615f-2611-43ff-b252-a57bf048cefe"
      },
      "execution_count": 3,
      "outputs": [
        {
          "output_type": "stream",
          "name": "stdout",
          "text": [
            "160000원\n"
          ]
        }
      ]
    },
    {
      "cell_type": "markdown",
      "source": [
        "<br>\n",
        "\n",
        "__[문제3]__\n",
        "\n",
        "지각입니다 !!!!!\n",
        "\n",
        "지하철을 타고 5개의 역이 남았습니다.\n",
        "\n",
        "각 역은 3분씩 걸립니다. 시간을 계산해볼 수 있도록 5개의 역을 지나는데 걸린 총 시간을 구해주세요.\n",
        "\n"
      ],
      "metadata": {
        "id": "1O1MItIiF67S"
      }
    },
    {
      "cell_type": "code",
      "source": [
        "#남은 역 갯수\n",
        "station = 5\n",
        "\n",
        "#각 역 걸리는 시간\n",
        "time = 3\n",
        "\n",
        "print(station * time,\"분\", sep=\"\")"
      ],
      "metadata": {
        "colab": {
          "base_uri": "https://localhost:8080/"
        },
        "id": "c2e9ZFsnGCdR",
        "outputId": "2818ef0f-8769-47d0-b978-092bba88823f"
      },
      "execution_count": 4,
      "outputs": [
        {
          "output_type": "stream",
          "name": "stdout",
          "text": [
            "15분\n"
          ]
        }
      ]
    },
    {
      "cell_type": "markdown",
      "source": [
        "<br>__[문제4]__\n",
        "\n",
        "파이썬 기초 관련 책이 9권 있습니다.\n",
        "\n",
        "오즈코딩스쿨을 통해 파이썬을 마스터 해버려서 필요없습니다.\n",
        "\n",
        "책을 3명의 친구에게 똑같이 나눠줄 때, 각 사람에게 몇 권씩 나누어줄 수 있을까요?\n"
      ],
      "metadata": {
        "id": "fBETisXTGHeu"
      }
    },
    {
      "cell_type": "code",
      "source": [
        "#남아 있는 책\n",
        "book = 9\n",
        "\n",
        "#친구 수\n",
        "friend = 3\n",
        "\n",
        "print(book // friend, \"권\", sep=\"\")"
      ],
      "metadata": {
        "colab": {
          "base_uri": "https://localhost:8080/"
        },
        "id": "EcZtogAlGIL4",
        "outputId": "51100830-1659-4f0c-ee88-c90c0e01b0e6"
      },
      "execution_count": 5,
      "outputs": [
        {
          "output_type": "stream",
          "name": "stdout",
          "text": [
            "3권\n"
          ]
        }
      ]
    },
    {
      "cell_type": "markdown",
      "source": [
        "__[문제5]__\n",
        "\n",
        "무인도에 2명의 갇혀있습니다.\n",
        "\n",
        "가진건 초콜릿 8개뿐,,\n",
        "\n",
        "각 사람은 초콜릿을 몇 개씩 먹을 수 있을까요?\n",
        "\n"
      ],
      "metadata": {
        "id": "qY8AaEgqGN6F"
      }
    },
    {
      "cell_type": "code",
      "source": [
        "#무인도 인원수\n",
        "people = 2\n",
        "\n",
        "#초콜릿 개수\n",
        "cholocate = 8\n",
        "\n",
        "print(cholocate // people, \"초콜릿개수\" ,sep=\"\")"
      ],
      "metadata": {
        "colab": {
          "base_uri": "https://localhost:8080/"
        },
        "id": "CaBVz5rYGO5z",
        "outputId": "4a0f13f7-914c-4ada-9718-1e68f26ca3ee"
      },
      "execution_count": 6,
      "outputs": [
        {
          "output_type": "stream",
          "name": "stdout",
          "text": [
            "4초콜릿개수\n"
          ]
        }
      ]
    }
  ]
}