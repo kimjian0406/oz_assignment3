{
  "nbformat": 4,
  "nbformat_minor": 0,
  "metadata": {
    "colab": {
      "provenance": [],
      "authorship_tag": "ABX9TyOcoiROgLrGYbwPGgpoNfqJ"
    },
    "kernelspec": {
      "name": "python3",
      "display_name": "Python 3"
    },
    "language_info": {
      "name": "python"
    }
  },
  "cells": [
    {
      "cell_type": "markdown",
      "source": [
        "<span style=\"font-size:100%\">\n",
        "\n",
        "수업은 모두 열심히 들으셨나요?\n",
        "\n",
        "간혹 강의에서 언급되지 않은 내용이 문제로 나올 수 있습니다.<br>\n",
        "그럴땐 강의 내용 외 문제는 구글링을 통해 해결해주세요<br></span>\n",
        "<span style=\"font-size:80%\">\n",
        "(구글링 또한 개발자가 갖쳐야할 역량 중에 하나랍니다 😊)\n",
        "</span>\n",
        "\n",
        "---"
      ],
      "metadata": {
        "id": "PgfGF0a0CIOR"
      }
    },
    {
      "cell_type": "markdown",
      "source": [
        "<span style=\"font-size:80%\">[문제1]<br><br></span>\n",
        "```주로 작성 중인 코드의 끝을 알리는 기호로 사용되며 파이썬에서 한 줄에 작성된 서로 다른 코드를 구분 지을 때 사용할 수 있는 기호를 골라주세요```\n",
        "\n",
        "1. ' , ' (쉼표)\n",
        "2. ' + ' (더하기 기호)\n",
        "3. ' ; ' (세미콜론)\n",
        "4. ' / ' (슬래시)"
      ],
      "metadata": {
        "id": "1ZunqsiaCL76"
      }
    },
    {
      "cell_type": "markdown",
      "source": [
        "답변은 ' ; ' 세미콜론 입니다"
      ],
      "metadata": {
        "id": "KQXXy1KCCSZD"
      }
    },
    {
      "cell_type": "markdown",
      "source": [
        "<span style=\"font-size:80%\">[문제2]<br><br></span>\n",
        "```Python의 PEP 8은 무엇인지 설명하고 PEP 8의 핵심적인 규칙을 1개 이상을 설명해주세요```"
      ],
      "metadata": {
        "id": "WZJTzgoMCUoC"
      }
    },
    {
      "cell_type": "markdown",
      "source": [
        "PEP 8이 무엇이고 왜 중요한가\n",
        "PEP 8은 \"Python Enhancement Proposal 8\"의 약자입니다.\n",
        "\n",
        "마치 우리가 글을 쓸 때 맞춤법과 문법을 지키는 것처럼, 코드에도 '올바른 작성법' 이 있습니다\n",
        "\n",
        "중요한 점\n",
        "\n",
        "일관성 : 모든 파이썬 개발자가 같은 스타일로 코드를 작성하면, 서로의 코드를 쉽게 이해할 수 있다.\n",
        "가독성 : 깔끔하고 일관된 코드는 읽기 쉽고 유지보수하기도 편하다.\n",
        "협업 : 팀 프로젝트 에서 모두가 같은 큐칙을 따르면 코드 리뷰도 쉽고,충돌도 줄일 수 있다.\n",
        "전문성 : PEP 8을 잘 지키는 코드를 보면 \"아! 이 사람 파이썬 진짜 잘하는구나!\"라고 생각하게 된다.\n",
        "\n",
        "\n",
        "\n",
        "\n",
        "\n",
        ""
      ],
      "metadata": {
        "id": "3f18NLckCWpc"
      }
    },
    {
      "cell_type": "markdown",
      "source": [
        "<span style=\"font-size:80%\">[문제3]<br><br></span>\n",
        "```Python에서 \"#\"이 의미하는 것은 무엇인지 설명해주세요```"
      ],
      "metadata": {
        "id": "Ps5g4GV-DIFX"
      }
    },
    {
      "cell_type": "markdown",
      "source": [
        "Python에서 \"#\"이 의마하는 것은\n",
        "주석을 나타내는 말입니다!\n",
        "\n",
        "주석의 사용 방식\n",
        "한줄 주석\n",
        "- #뒤에 작성된 내용은 주석으로 처리 되며,Python 인터프리터가 무시합니다.\n",
        "- 주로 코드의 간단한 설명이나 메모를 추가할 때 사용합니다\n"
      ],
      "metadata": {
        "id": "jpC06XfeDSaA"
      }
    },
    {
      "cell_type": "markdown",
      "source": [
        "<span style=\"font-size:80%\">[문제4]<br><br></span>\n",
        "```Python의 들여쓰기 장점과 기능에 대해 설명해주세요```"
      ],
      "metadata": {
        "id": "CaEq4QOODeva"
      }
    },
    {
      "cell_type": "markdown",
      "source": [
        "<span style=\"font-size:80%\">[문제4]<br><br></span>\n",
        "```Python의 들여쓰기 장점과 기능에 대해 설명해주세요```"
      ],
      "metadata": {
        "id": "GWYM2zRPDfc4"
      }
    },
    {
      "cell_type": "markdown",
      "source": [
        "# 들여쓰기의 기능과 장점\n",
        "1.코드블록 구분\n",
        "2.명령문의 논리적 그룹화\n",
        "3.python 문법의 필요요소\n",
        "\n",
        "# 들여쓰기의 장점\n",
        "1.가독성의 향샹\n",
        "2.일관된 스타일 유지\n",
        "3.간결한 코드 작성 등\n",
        "4.오류 방지"
      ],
      "metadata": {
        "id": "MGlN8ZElDljW"
      }
    },
    {
      "cell_type": "markdown",
      "source": [
        "<span style=\"font-size:80%\">[문제5]<br><br></span>\n",
        "```print( )문의 기능 및 특징에 대해 설명해주세요```"
      ],
      "metadata": {
        "id": "t7w3au1DEOMf"
      }
    },
    {
      "cell_type": "markdown",
      "source": [
        "1.문자의 출력\n",
        "2.변수 출력\n",
        "3.다중 데이터 출력\n",
        "4.포맷팅 출력\n",
        "5.파일 출력\n",
        "\n",
        "#print ()의 주요 특징\n",
        "1.자동으로 개행\n",
        "2.다양한 데이터 유형 파일 출력"
      ],
      "metadata": {
        "id": "7FvPRSqaEPzN"
      }
    }
  ]
}