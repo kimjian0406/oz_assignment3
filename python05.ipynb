{
  "nbformat": 4,
  "nbformat_minor": 0,
  "metadata": {
    "colab": {
      "provenance": [],
      "authorship_tag": "ABX9TyNDR04vdN63CFkthpvUcHqA"
    },
    "kernelspec": {
      "name": "python3",
      "display_name": "Python 3"
    },
    "language_info": {
      "name": "python"
    }
  },
  "cells": [
    {
      "cell_type": "markdown",
      "source": [
        "안녕하세요.<br><br>\n",
        "수강생 여러분~!\n",
        "\n",
        "\"Challenge : 사칙연산을 이용해 문제 풀기\"는 잘 풀어보셨나요?\n",
        "\n",
        "\n",
        "너~~무 어려웠어요! 하는 분들을 위해 만들어봤습니다!\n",
        "\n",
        "문제 도장깨기 !!!!!\n",
        "\n",
        "차근차근 풀어나가면 파이썬 정복 가능입니다!\n",
        "\n",
        "화이팅 !\n",
        "\n",
        "\n",
        "Chapter04의 수업 내용을 바탕으로 아래 문제를 풀어주시면 됩니다.\n",
        "\n",
        "<br>\n",
        "\n",
        "[**답변 입력 방법**]\n",
        "\n",
        "문제 아래에 있는 코드 입력창에 정답코드를 작성하신 후  __▷ 버튼을 클릭해 코드를 실행__ 해보세요<br>\n",
        "<br>"
      ],
      "metadata": {
        "id": "9eQf_9VvGp09"
      }
    },
    {
      "cell_type": "markdown",
      "source": [
        "<br>\n",
        "\n",
        "__[문제1]__\n",
        "\n",
        "한 주머니에 사탕이 5개씩 들어있습니다.\n",
        "\n",
        "바리바리스타인 나에게는 3개의 주머니가 있습니다!\n",
        "\n",
        "근데 길가다가 사탕을 주웠습니다. 그래서 사탕 3개가 주머니에 더 추가되었습니다.\n",
        "\n",
        "최종적으로 주머니에 들어있는 사탕의 총 개수는 얼마인가요?\n",
        "\n",
        "<br>"
      ],
      "metadata": {
        "id": "9xcRgTRWGriL"
      }
    },
    {
      "cell_type": "code",
      "source": [
        "# 한 주머니 에 사탕이(5) 개씩\n",
        "candy = 5\n",
        "\n",
        "# 나에게는 3개의 주머니(3*5)가 있다\n",
        "pocke = 3\n",
        "\n",
        "# 길가다가 사탕을 3개가 주머니에 3개가 더 추가됬어다.\n",
        "walk = 3\n",
        "\n",
        "#합개\n",
        "answer = candy * pocke + walk\n",
        "\n",
        "#출력\n",
        "print(\"정답:\",answer,\"개\", sep=\"\")"
      ],
      "metadata": {
        "colab": {
          "base_uri": "https://localhost:8080/"
        },
        "id": "uiIWxHEwGtSS",
        "outputId": "140a4ce4-8eac-48c2-d99b-904e1e3a4c65"
      },
      "execution_count": 3,
      "outputs": [
        {
          "output_type": "stream",
          "name": "stdout",
          "text": [
            "정답:18개\n"
          ]
        }
      ]
    },
    {
      "cell_type": "markdown",
      "source": [
        "<br>\n",
        "\n",
        "__[문제2]__\n",
        "\n",
        "10명이 각자 4개의 공을 가지고 있습니다.\n",
        "\n",
        "운이 좋은 3명이 2개의 공을 더 받았습니다.\n",
        "\n",
        "10명이 가진 모든 공의 총 개수를 구하세요.\n"
      ],
      "metadata": {
        "id": "lZ_YqKoHG-jI"
      }
    },
    {
      "cell_type": "code",
      "source": [
        "# 10명이 각자 4개의 공을 가지고 있습니다 (10*4)\n",
        "people = 10\n",
        "ball = 4\n",
        "\n",
        "# 운이 좋은 3명이 2개의 공을 더 받았습니다 (3*2)\n",
        "people_2 = 3\n",
        "ball_2 = 2\n",
        "\n",
        "#합개\n",
        "answer = people * ball + people_2 * ball_2\n",
        "\n",
        "#출력\n",
        "print(\"정답:\",answer,\"개\", sep=\"\")"
      ],
      "metadata": {
        "colab": {
          "base_uri": "https://localhost:8080/"
        },
        "id": "H0sXfvbvHAA0",
        "outputId": "88bb58d3-7aa9-4466-c4f9-cadc5bd8c3e5"
      },
      "execution_count": 4,
      "outputs": [
        {
          "output_type": "stream",
          "name": "stdout",
          "text": [
            "정답:46개\n"
          ]
        }
      ]
    },
    {
      "cell_type": "markdown",
      "source": [
        "<br>\n",
        "\n",
        "__[문제3]__\n",
        "\n",
        "5명의 학생이 3시간씩 공부했습니다.\n",
        "\n",
        "이상한 강박관념이 있는 나는 모든 시간을 분으로 계산하고 싶습니다.\n",
        "\n",
        "대신 계산해주세요 !\n"
      ],
      "metadata": {
        "id": "X-Wu4kmtHJUU"
      }
    },
    {
      "cell_type": "code",
      "source": [
        "'''\n",
        "(\"60초 = 1분\")\n",
        "(\"60분 = 1시간\")\n",
        "'''\n",
        "#시간을 분 과 초로 바꾸기\n",
        "hours = 1\n",
        "minutes = 60 * hours\n",
        "seconds = 60 * minutes\n",
        "\n",
        "#학생이 공부한 시간\n",
        "study_hours = hours * 3\n",
        "\n",
        "#시 분 초 로 나눈 것으로 공부한 시간 을 분으로 계산하기\n",
        "answer = study_hours * minutes\n",
        "\n",
        "#출력\n",
        "print(answer, \"분\",sep=\"\")\n"
      ],
      "metadata": {
        "colab": {
          "base_uri": "https://localhost:8080/"
        },
        "id": "aG8gKU4SHKrE",
        "outputId": "5091f091-5f08-4fec-a8b3-446a079b58c9"
      },
      "execution_count": 5,
      "outputs": [
        {
          "output_type": "stream",
          "name": "stdout",
          "text": [
            "180분\n"
          ]
        }
      ]
    },
    {
      "cell_type": "markdown",
      "source": [
        "<br>\n",
        "\n",
        "__[문제4]__\n",
        "\n",
        "차가 9리터의 연료를 가지고 있습니다.\n",
        "\n",
        "연료가 3일 동안 계속 줄어들며, 하루에 2리터씩 소비됩니다.\n",
        "\n",
        "3일 뒤 차에 남은 연료는 몇 리터인가요?"
      ],
      "metadata": {
        "id": "Y-kjlr3hHJVt"
      }
    },
    {
      "cell_type": "code",
      "source": [
        "# 차가 9리터의 연료를 가지고 있다\n",
        "Fuel_L = 9\n",
        "\n",
        "# 연료가 3일동안 계속 줄어들며, 하루에 2리터씩 소비가 된다 (3 * 2)\n",
        "Day = 3\n",
        "Liter = 2\n",
        "\n",
        "#3일 간 소비한 리터\n",
        "Fuel = Day * Liter\n",
        "\n",
        "# 3일뒤 차에 남은 연료는 몇리터 인가 (9 - (3*2))\n",
        "answer = Fuel_L - Fuel\n",
        "\n",
        "#출력\n",
        "print(\"정답\",answer ,\"리터\" , sep=\"\")"
      ],
      "metadata": {
        "colab": {
          "base_uri": "https://localhost:8080/"
        },
        "id": "IY5PjJf5HiR2",
        "outputId": "d8b1a162-65da-496e-8c24-8527db8ecca1"
      },
      "execution_count": 10,
      "outputs": [
        {
          "output_type": "stream",
          "name": "stdout",
          "text": [
            "정답3리터\n"
          ]
        }
      ]
    },
    {
      "cell_type": "markdown",
      "source": [
        "__[문제5]__\n",
        "\n",
        "어떤 정사각형의 넓이가 144cm²입니다.\n",
        "\n",
        "정사각형의 한 변의 길이를 구하세요.\n"
      ],
      "metadata": {
        "id": "uzEv2sqAH9U2"
      }
    },
    {
      "cell_type": "code",
      "source": [
        "#모듈을 불러온다\n",
        "import math\n",
        "\n",
        "#정사각형의 넓이\n",
        "square_area = 144\n",
        "\n",
        "#모듈을 이용하여 제곱근 을 적용한다\n",
        "answer = math.sqrt(square_area)\n",
        "\n",
        "#출력\n",
        "print(\"정답:\", round(answer), \"cm\", sep=\"\")"
      ],
      "metadata": {
        "colab": {
          "base_uri": "https://localhost:8080/"
        },
        "id": "-WP7SzsdH9-p",
        "outputId": "33487b5e-13c3-4893-997c-0961b01ebc8a"
      },
      "execution_count": 11,
      "outputs": [
        {
          "output_type": "stream",
          "name": "stdout",
          "text": [
            "정답:12cm\n"
          ]
        }
      ]
    }
  ]
}