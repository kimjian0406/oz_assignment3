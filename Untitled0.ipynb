{
  "nbformat": 4,
  "nbformat_minor": 0,
  "metadata": {
    "colab": {
      "provenance": [],
      "authorship_tag": "ABX9TyNj6h+kmlQNgLj4+9bUSqsp",
      "include_colab_link": true
    },
    "kernelspec": {
      "name": "python3",
      "display_name": "Python 3"
    },
    "language_info": {
      "name": "python"
    }
  },
  "cells": [
    {
      "cell_type": "markdown",
      "metadata": {
        "id": "view-in-github",
        "colab_type": "text"
      },
      "source": [
        "<a href=\"https://colab.research.google.com/github/kimjian0406/oz_assignment3/blob/main/Untitled0.ipynb\" target=\"_parent\"><img src=\"https://colab.research.google.com/assets/colab-badge.svg\" alt=\"Open In Colab\"/></a>"
      ]
    },
    {
      "cell_type": "code",
      "execution_count": null,
      "metadata": {
        "id": "sD7Iu_Xw2NCZ"
      },
      "outputs": [],
      "source": []
    },
    {
      "cell_type": "markdown",
      "source": [
        "<span style=\"font-size:80%\">[문제1]<br><br></span>\n",
        "```주로 작성 중인 코드의 끝을 알리는 기호로 사용되며 파이썬에서 한 줄에 작성된 서로 다른 코드를 구분 지을 때 사용할 수 있는 기호를 골라주세요```\n",
        "\n",
        "1. ' , ' (쉼표)\n",
        "2. ' + ' (더하기 기호)\n",
        "3. ' ; ' (세미콜론)\n",
        "4. ' / ' (슬래시)"
      ],
      "metadata": {
        "id": "1ejCjjRE3b2l"
      }
    },
    {
      "cell_type": "code",
      "source": [
        "#세미콜론을 활용 예시\n",
        "x = 1; y = 2; z = 3\n",
        "\n",
        "#파이썬에서는 한 줄에 여러 개의 명령을 작성하는 것을 일반적으로 권장하지 않습니다.\n",
        "#파이썬의 가이드라인인 PEP 8에서는 한 줄에 하나의 명령만 작성하는 것을 권장하고 있습니다.\n",
        "#이는 코드의 가독성을 높이기 위한 방침입니다.\n",
        "\n",
        "x = 1\n",
        "y = 2\n",
        "z = 3"
      ],
      "metadata": {
        "id": "o3Js_UZk3lcA"
      },
      "execution_count": 1,
      "outputs": []
    },
    {
      "cell_type": "markdown",
      "source": [
        "<span style=\"font-size:80%\">[문제2]<br><br></span>\n",
        "```Python의 PEP 8은 무엇인지 설명하고 PEP 8의 핵심적인 규칙을 1개 이상을 설명해주세요```"
      ],
      "metadata": {
        "id": "ZLekpQeC3qNg"
      }
    },
    {
      "cell_type": "markdown",
      "source": [
        "**EP 8은 Python Enhancement Proposal의 약자로, 파이썬 코드를 어떻게 구조화하고 형식화할 것인지에 대한 스타일 가이드입니다. 이 가이드는 파이썬 코드의 가독성을 높이고, 파이썬 개발자 간의 일관성을 유지하기 위해 만들어졌습니다.**\n",
        "\n",
        "**PEP 8의 핵심적인 규칙 중 한가지는 들여쓰기 입니다.\n",
        "들여쓰기: 들여쓰기는 공백 4개를 사용합니다. 탭 대신 공백을 사용하는 것이 권장됩니다.**"
      ],
      "metadata": {
        "id": "MUtmWfOH3wdj"
      }
    },
    {
      "cell_type": "markdown",
      "source": [
        "그 외 핵심 규치 3가지는 아래와 같습니다.\n",
        "\n",
        "1. 라인 길이: 한 줄의 최대 길이는 79자입니다. 이는 코드를 작은 화면에서도 읽기 쉽게 하기 위한 규칙입니다.\n",
        "2. 공백: 괄호, 중괄호, 또는 대괄호를 여는 뒤, 닫기 전에는 공백을 넣지 않습니다. 쉼표, 세미콜론, 콜론을 쓴 뒤에는, 그러나 그 앞에는 공백을 넣습니다.\n",
        "3. 주석: 주석은 항상 최신 상태를 유지하고, 불필요한 주석은 피해야 합니다. 또한, 주석은 한 줄 주석과 블록 주석 모두 간결하게 작성해야 합니다.\n",
        "\n",
        "위의 규칙들은 PEP 8의 일부에 불과하며, 더 많은 규칙과 세부 사항들이 PEP 8 문서에 포함되어 있습니다.\n",
        "\n",
        "이 규칙들을 따르는 것은 파이썬 커뮤니티에서 일반적으로 기대되는 행동이지만, 특정 상황에서는 가이드라인을 일부 무시하는 것이 더 합리적일 수도 있습니다.\n",
        "\n",
        "PEP 8 자체도 이를 인정하며, \"규칙을 깨뜨리는 것이 아름답다면, 규칙을 깨뜨리세요.\"라는 가이드를 제공합니다."
      ],
      "metadata": {
        "id": "zC2lNFbF33Be"
      }
    },
    {
      "cell_type": "markdown",
      "source": [
        "<aside>\n",
        "🔑 정답 : **파이썬에서 #(샵은) 주석을 나타냅니다.**\n",
        "\n",
        "**기호 뒤에 오는 모든 텍스트는 파이썬 인터프리터에 의해 무시되며, 코드의 실행에는 영향을 미치지 않습니다.\n",
        "주석은 코드를 이해하고 유지 관리하는 데 도움이 되는 설명이나 메모를 추가하는 데 사용됩니다.**\n",
        "\n",
        "</aside>"
      ],
      "metadata": {
        "id": "b3v6PBm_4A9q"
      }
    },
    {
      "cell_type": "code",
      "source": [
        "# 이것은 주석입니다. 이 줄은 실행되지 않습니다.\n",
        "oz = \"수강생 여러분 화이팅\"  # 변수 oz에 수강생 화이팅이라는 문자열을 할당합니다."
      ],
      "metadata": {
        "id": "YusSi9-D4Ett"
      },
      "execution_count": 2,
      "outputs": []
    },
    {
      "cell_type": "markdown",
      "source": [
        "<span style=\"font-size:80%\">[문제3]<br><br></span>\n",
        "```Python에서 \"#\"이 의마하는 것은 무엇인지 설명해주세요```\n"
      ],
      "metadata": {
        "id": "X9CISFQI4Rk8"
      }
    },
    {
      "cell_type": "code",
      "source": [
        "\"\"\"\n",
        "여러 줄로\n",
        "주석을 작성하는 방법은\n",
        "이렇게 하는 겁니다.\n",
        "\"\"\"\n"
      ],
      "metadata": {
        "colab": {
          "base_uri": "https://localhost:8080/",
          "height": 35
        },
        "id": "GxzAB3nB4ak0",
        "outputId": "81ae71d2-b2a5-44a8-cda2-90c1bc942ab5"
      },
      "execution_count": 3,
      "outputs": [
        {
          "output_type": "execute_result",
          "data": {
            "text/plain": [
              "'\\n여러 줄로\\n주석을 작성하는 방법은\\n이렇게 하는 겁니다.\\n'"
            ],
            "application/vnd.google.colaboratory.intrinsic+json": {
              "type": "string"
            }
          },
          "metadata": {},
          "execution_count": 3
        }
      ]
    },
    {
      "cell_type": "markdown",
      "source": [
        "<span style=\"font-size:80%\">[문제4]<br><br></span>\n",
        "```Python의 들여쓰기 장점과 기능에 대해 설명해주세요```"
      ],
      "metadata": {
        "id": "BGGASf_b4iVs"
      }
    },
    {
      "cell_type": "code",
      "source": [
        "#여러 줄로\n",
        "#주석을 작성하는 방법은\n",
        "#이렇게 하는 겁니다.\n"
      ],
      "metadata": {
        "id": "FGgHJBEB4mOf"
      },
      "execution_count": 4,
      "outputs": []
    },
    {
      "cell_type": "markdown",
      "source": [
        "<span style=\"font-size:80%\">[문제5]<br><br></span>\n",
        "```print( )문의 기능 및 특징에 대해 설명해주세요```"
      ],
      "metadata": {
        "id": "u1Me7G7g4qS9"
      }
    },
    {
      "cell_type": "code",
      "source": [
        "#여러 줄로\n",
        "#주석을 작성하는 방법은\n",
        "#이렇게 하는 겁니다.\n"
      ],
      "metadata": {
        "id": "gVa8T9mQ4sQb"
      },
      "execution_count": 5,
      "outputs": []
    }
  ]
}